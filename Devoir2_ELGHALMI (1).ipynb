{
  "nbformat": 4,
  "nbformat_minor": 0,
  "metadata": {
    "kernelspec": {
      "display_name": "R",
      "language": "R",
      "name": "ir"
    },
    "language_info": {
      "codemirror_mode": "r",
      "file_extension": ".r",
      "mimetype": "text/x-r-source",
      "name": "R",
      "pygments_lexer": "r",
      "version": "3.6.1"
    },
    "colab": {
      "name": "Devoir2_ELGHALMI.ipynb",
      "provenance": []
    }
  },
  "cells": [
    {
      "cell_type": "markdown",
      "metadata": {
        "id": "oZncjwoeNJVr"
      },
      "source": [
        "Q4) Top 50 des prénoms féminin depuis 1880, durant la première partie du 20ème siècle et durant la décennie 2000.\n",
        "\n",
        "Q5) Calculer le nombre de prénom unique par année et par genre et tracer l'évolution \n",
        "\n"
      ]
    },
    {
      "cell_type": "markdown",
      "metadata": {
        "id": "hxcYozQ3OFJh"
      },
      "source": [
        "Exercice 4\n"
      ]
    },
    {
      "cell_type": "code",
      "metadata": {
        "id": "41zqwy4OMf3C",
        "outputId": "fcdcd645-90e8-46ad-df31-c2ff0618fc92",
        "colab": {
          "base_uri": "https://localhost:8080/",
          "height": 204
        }
      },
      "source": [
        "# Définition du nom d fichier\n",
        "filename <- \"data_prenom_US.csv\" \n",
        "# Chargement du fichier\n",
        "dataset <- read.csv(filename, header=TRUE) \n",
        "#### Chanement du nom des colonnes\n",
        "names(dataset) <- c(\"X\", \"année\", \"prénom\", \"genre\", \"naissance\")\n",
        "# Affichage des 5 premières lignes\n",
        "head(dataset)"
      ],
      "execution_count": 3,
      "outputs": [
        {
          "output_type": "display_data",
          "data": {
            "text/plain": [
              "  X année prénom    genre naissance\n",
              "1 0 1880  Mary      F     7065     \n",
              "2 1 1880  Anna      F     2604     \n",
              "3 2 1880  Emma      F     2003     \n",
              "4 3 1880  Elizabeth F     1939     \n",
              "5 4 1880  Minnie    F     1746     \n",
              "6 5 1880  Margaret  F     1578     "
            ],
            "text/latex": "A data.frame: 6 × 5\n\\begin{tabular}{r|lllll}\n  & X & année & prénom & genre & naissance\\\\\n  & <int> & <int> & <chr> & <chr> & <int>\\\\\n\\hline\n\t1 & 0 & 1880 & Mary      & F & 7065\\\\\n\t2 & 1 & 1880 & Anna      & F & 2604\\\\\n\t3 & 2 & 1880 & Emma      & F & 2003\\\\\n\t4 & 3 & 1880 & Elizabeth & F & 1939\\\\\n\t5 & 4 & 1880 & Minnie    & F & 1746\\\\\n\t6 & 5 & 1880 & Margaret  & F & 1578\\\\\n\\end{tabular}\n",
            "text/markdown": "\nA data.frame: 6 × 5\n\n| <!--/--> | X &lt;int&gt; | année &lt;int&gt; | prénom &lt;chr&gt; | genre &lt;chr&gt; | naissance &lt;int&gt; |\n|---|---|---|---|---|---|\n| 1 | 0 | 1880 | Mary      | F | 7065 |\n| 2 | 1 | 1880 | Anna      | F | 2604 |\n| 3 | 2 | 1880 | Emma      | F | 2003 |\n| 4 | 3 | 1880 | Elizabeth | F | 1939 |\n| 5 | 4 | 1880 | Minnie    | F | 1746 |\n| 6 | 5 | 1880 | Margaret  | F | 1578 |\n\n",
            "text/html": [
              "<table>\n",
              "<caption>A data.frame: 6 × 5</caption>\n",
              "<thead>\n",
              "\t<tr><th></th><th scope=col>X</th><th scope=col>année</th><th scope=col>prénom</th><th scope=col>genre</th><th scope=col>naissance</th></tr>\n",
              "\t<tr><th></th><th scope=col>&lt;int&gt;</th><th scope=col>&lt;int&gt;</th><th scope=col>&lt;chr&gt;</th><th scope=col>&lt;chr&gt;</th><th scope=col>&lt;int&gt;</th></tr>\n",
              "</thead>\n",
              "<tbody>\n",
              "\t<tr><th scope=row>1</th><td>0</td><td>1880</td><td>Mary     </td><td>F</td><td>7065</td></tr>\n",
              "\t<tr><th scope=row>2</th><td>1</td><td>1880</td><td>Anna     </td><td>F</td><td>2604</td></tr>\n",
              "\t<tr><th scope=row>3</th><td>2</td><td>1880</td><td>Emma     </td><td>F</td><td>2003</td></tr>\n",
              "\t<tr><th scope=row>4</th><td>3</td><td>1880</td><td>Elizabeth</td><td>F</td><td>1939</td></tr>\n",
              "\t<tr><th scope=row>5</th><td>4</td><td>1880</td><td>Minnie   </td><td>F</td><td>1746</td></tr>\n",
              "\t<tr><th scope=row>6</th><td>5</td><td>1880</td><td>Margaret </td><td>F</td><td>1578</td></tr>\n",
              "</tbody>\n",
              "</table>\n"
            ]
          },
          "metadata": {
            "tags": []
          }
        }
      ]
    },
    {
      "cell_type": "code",
      "metadata": {
        "id": "N3t5svrcMf3N",
        "outputId": "ceb8eb89-13a9-4017-df85-d44b84f7934a",
        "colab": {
          "base_uri": "https://localhost:8080/"
        }
      },
      "source": [
        "library(\"dplyr\")\n",
        "library(ggplot2)"
      ],
      "execution_count": 4,
      "outputs": [
        {
          "output_type": "stream",
          "text": [
            "\n",
            "Attaching package: ‘dplyr’\n",
            "\n",
            "\n",
            "The following objects are masked from ‘package:stats’:\n",
            "\n",
            "    filter, lag\n",
            "\n",
            "\n",
            "The following objects are masked from ‘package:base’:\n",
            "\n",
            "    intersect, setdiff, setequal, union\n",
            "\n",
            "\n"
          ],
          "name": "stderr"
        }
      ]
    },
    {
      "cell_type": "markdown",
      "metadata": {
        "id": "ZIHGQ_LAMf3U"
      },
      "source": [
        "Exercice 3"
      ]
    },
    {
      "cell_type": "code",
      "metadata": {
        "id": "VFcrgXs4Mf3W"
      },
      "source": [
        "dataset %>% filter(genre == \"F\") %>% \n",
        "    group_by(prénom) %>% \n",
        "    summarise(somme = sum(naissance), na.rm = TRUE) %>% \n",
        "    arrange(desc(somme)) %>% \n",
        "    head(50)"
      ],
      "execution_count": null,
      "outputs": []
    },
    {
      "cell_type": "code",
      "metadata": {
        "id": "FocUhq25Mf3c"
      },
      "source": [
        "dataset %>% filter((genre == \"F\") & (année >= 1900) & (année <= 1950)) %>% \n",
        "    group_by(prénom) %>% \n",
        "    summarise(somme = sum(naissance), na.rm = TRUE) %>% \n",
        "    arrange(desc(somme)) %>% \n",
        "    head(50)"
      ],
      "execution_count": null,
      "outputs": []
    },
    {
      "cell_type": "code",
      "metadata": {
        "id": "uVaMav9TPlrZ"
      },
      "source": [
        "dataset %>% filter((genre == \"F\") & (année >= 2000) & (année <= 2010)) %>% \n",
        "    group_by(prénom) %>% \n",
        "    summarise(somme = sum(naissance), na.rm = TRUE) %>% \n",
        "    arrange(desc(somme)) %>% \n",
        "    head(50)"
      ],
      "execution_count": null,
      "outputs": []
    },
    {
      "cell_type": "markdown",
      "metadata": {
        "id": "42b7QTPJMf3j"
      },
      "source": [
        "Exercice 4 "
      ]
    },
    {
      "cell_type": "code",
      "metadata": {
        "id": "HysyU5jjMf3k"
      },
      "source": [
        "dataset %>% group_by(année, genre) %>% summarise(nb = n()) %>% head()"
      ],
      "execution_count": null,
      "outputs": []
    },
    {
      "cell_type": "code",
      "metadata": {
        "id": "K1e6p_JlMf3q",
        "outputId": "bc653355-9f0c-4f6a-ef92-00c1e56ddcdc",
        "colab": {
          "base_uri": "https://localhost:8080/"
        }
      },
      "source": [
        "DataM <- dataset %>% group_by(année, genre) %>% summarise(nb = n()) %>% filter(genre ==\"M\")\n",
        "DataF <- dataset %>% group_by(année, genre) %>% summarise(nb = n()) %>% filter(genre ==\"F\")\n",
        "df <- rbind(DataM, DataF)"
      ],
      "execution_count": 10,
      "outputs": [
        {
          "output_type": "stream",
          "text": [
            "`summarise()` regrouping output by 'année' (override with `.groups` argument)\n",
            "\n",
            "`summarise()` regrouping output by 'année' (override with `.groups` argument)\n",
            "\n"
          ],
          "name": "stderr"
        }
      ]
    },
    {
      "cell_type": "code",
      "metadata": {
        "id": "s8EjLShPMf34"
      },
      "source": [
        "ggplot() + \n",
        "geom_line(data = df, aes(x = année, y = nb, colour = genre))"
      ],
      "execution_count": null,
      "outputs": []
    }
  ]
}